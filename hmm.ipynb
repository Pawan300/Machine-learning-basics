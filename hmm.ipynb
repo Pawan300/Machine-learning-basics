{
  "nbformat": 4,
  "nbformat_minor": 0,
  "metadata": {
    "kernelspec": {
      "display_name": "Python 3",
      "language": "python",
      "name": "python3"
    },
    "language_info": {
      "codemirror_mode": {
        "name": "ipython",
        "version": 3
      },
      "file_extension": ".py",
      "mimetype": "text/x-python",
      "name": "python",
      "nbconvert_exporter": "python",
      "pygments_lexer": "ipython3",
      "version": "3.6.5"
    },
    "colab": {
      "name": "hmm.ipynb",
      "provenance": []
    }
  },
  "cells": [
    {
      "cell_type": "code",
      "metadata": {
        "id": "_8qkoEQRupa9"
      },
      "source": [
        "import nltk \n",
        "from nltk import bigrams\n",
        "import pandas as pd\n",
        "import numpy as np\n",
        "from sklearn.model_selection import train_test_split"
      ],
      "execution_count": null,
      "outputs": []
    },
    {
      "cell_type": "code",
      "metadata": {
        "id": "6yHGuIeRupbC"
      },
      "source": [
        "data=pd.read_csv(r\"C:\\Users\\pawan_300\\Desktop\\pos tagger\\pos_tagger.csv\")\n",
        "train,test=train_test_split(data,train_size=0.8,test_size=0.2)"
      ],
      "execution_count": null,
      "outputs": []
    },
    {
      "cell_type": "markdown",
      "metadata": {
        "id": "dRnA4smFupbD"
      },
      "source": [
        "## Different words and tags"
      ]
    },
    {
      "cell_type": "code",
      "metadata": {
        "id": "rAbxqUyrupbE"
      },
      "source": [
        "words=[]\n",
        "for i in train[\"Sentences\"]:\n",
        "    i=i.split(\" \")\n",
        "    for j in i:\n",
        "        words.append(j)"
      ],
      "execution_count": null,
      "outputs": []
    },
    {
      "cell_type": "code",
      "metadata": {
        "id": "BcKdA9acupbF"
      },
      "source": [
        "tags=[]\n",
        "for i in train['Tags']:\n",
        "    i=i.split(\" \")\n",
        "    for j in i:\n",
        "        tags.append(j)"
      ],
      "execution_count": null,
      "outputs": []
    },
    {
      "cell_type": "code",
      "metadata": {
        "id": "JrAQ-6jpupbG"
      },
      "source": [
        "def unigram(seq):\n",
        "    temp={}\n",
        "    for i in seq:\n",
        "        if i in temp.keys():\n",
        "            temp[i]+=1\n",
        "        else:\n",
        "            temp[i]=1\n",
        "    return(temp)"
      ],
      "execution_count": null,
      "outputs": []
    },
    {
      "cell_type": "code",
      "metadata": {
        "id": "k9bz1nJSupbH"
      },
      "source": [
        "tags_unigram=unigram(tags)"
      ],
      "execution_count": null,
      "outputs": []
    },
    {
      "cell_type": "markdown",
      "metadata": {
        "id": "7v0JD7nnupbM"
      },
      "source": [
        "## Prior probability"
      ]
    },
    {
      "cell_type": "code",
      "metadata": {
        "id": "f_iGDPO3upbM"
      },
      "source": [
        "def bigram(seq):\n",
        "    temp={}\n",
        "    bi=list(bigrams(seq))\n",
        "    for i in bi:\n",
        "        if i in temp.keys():\n",
        "            temp[i]+=1\n",
        "        else:\n",
        "            temp[i]=1\n",
        "    return(temp)"
      ],
      "execution_count": null,
      "outputs": []
    },
    {
      "cell_type": "code",
      "metadata": {
        "id": "XZ0ROm61upbN"
      },
      "source": [
        "transition_p=bigram(tags)"
      ],
      "execution_count": null,
      "outputs": []
    },
    {
      "cell_type": "code",
      "metadata": {
        "id": "fhde538QupbN"
      },
      "source": [
        "for i in transition_p:\n",
        "    transition_p[i]=transition_p[i]/tags_unigram[i[0]]"
      ],
      "execution_count": null,
      "outputs": []
    },
    {
      "cell_type": "markdown",
      "metadata": {
        "id": "8Z9pvIt3upbO"
      },
      "source": [
        "## Posterior probability"
      ]
    },
    {
      "cell_type": "code",
      "metadata": {
        "scrolled": true,
        "id": "AOp0OQqNupbO"
      },
      "source": [
        "def posterior(seq1,seq2):\n",
        "    temp={}\n",
        "    for i in zip(seq1,seq2):\n",
        "        if i in temp.keys():\n",
        "            temp[i]+=1\n",
        "        else:\n",
        "            temp[i]=1\n",
        "    return(temp)"
      ],
      "execution_count": null,
      "outputs": []
    },
    {
      "cell_type": "code",
      "metadata": {
        "id": "NB0Bqk14upbO"
      },
      "source": [
        "emission_p=posterior(tags,words)"
      ],
      "execution_count": null,
      "outputs": []
    },
    {
      "cell_type": "code",
      "metadata": {
        "id": "HCDgsXfiupbP"
      },
      "source": [
        "for i in emission_p:\n",
        "    emission_p[i]=emission_p[i]/tags_unigram[i[0]]"
      ],
      "execution_count": null,
      "outputs": []
    },
    {
      "cell_type": "markdown",
      "metadata": {
        "id": "zPiuBYwLupbP"
      },
      "source": [
        "## Transition matrix"
      ]
    },
    {
      "cell_type": "code",
      "metadata": {
        "id": "ywQw1uuoupbQ"
      },
      "source": [
        "tran_mat=np.zeros([len(set(tags)),len(set(tags))])"
      ],
      "execution_count": null,
      "outputs": []
    },
    {
      "cell_type": "code",
      "metadata": {
        "id": "GEd34tHrupbQ"
      },
      "source": [
        "temp_tag=list(set(tags))\n",
        "for i in range(len(temp_tag)):\n",
        "    for j in range(len(temp_tag)):\n",
        "        if ((temp_tag[i],temp_tag[j]) in transition_p.keys()):\n",
        "            tran_mat[i,j]=transition_p[temp_tag[i],temp_tag[j]]  "
      ],
      "execution_count": null,
      "outputs": []
    },
    {
      "cell_type": "markdown",
      "metadata": {
        "id": "-2ist9-DupbQ"
      },
      "source": [
        "## Emission matrix"
      ]
    },
    {
      "cell_type": "code",
      "metadata": {
        "id": "gV8XiZNeupbR"
      },
      "source": [
        "emis_mat=np.zeros([len(set(tags)),len(set(words))])"
      ],
      "execution_count": null,
      "outputs": []
    },
    {
      "cell_type": "code",
      "metadata": {
        "id": "UrkvFXOuupbR"
      },
      "source": [
        "temp_word=list(set(words))\n",
        "for i in range(len(temp_tag)):\n",
        "    for j in range(len(temp_word)):\n",
        "        if ((temp_tag[i],temp_word[j]) in emission_p.keys()):\n",
        "            emis_mat[i,j]=emission_p[temp_tag[i],temp_word[j]] "
      ],
      "execution_count": null,
      "outputs": []
    },
    {
      "cell_type": "markdown",
      "metadata": {
        "id": "ff4X6QSUupbS"
      },
      "source": [
        "## Starting probability"
      ]
    },
    {
      "cell_type": "code",
      "metadata": {
        "id": "ihlmn4lqupbS"
      },
      "source": [
        "start_p=np.zeros(len(temp_tag))"
      ],
      "execution_count": null,
      "outputs": []
    },
    {
      "cell_type": "code",
      "metadata": {
        "id": "RD8RpzFQupbT"
      },
      "source": [
        "for i in train['Tags']:\n",
        "    i=i.split(' ')\n",
        "    for j in range(len(temp_tag)):\n",
        "        if temp_tag[j]==i[0]:\n",
        "             break\n",
        "    start_p[j]+=1"
      ],
      "execution_count": null,
      "outputs": []
    },
    {
      "cell_type": "code",
      "metadata": {
        "id": "w2bkuu6YupbT"
      },
      "source": [
        "start_p=start_p/sum(start_p)"
      ],
      "execution_count": null,
      "outputs": []
    },
    {
      "cell_type": "markdown",
      "metadata": {
        "id": "YKxhqZ3MupbT"
      },
      "source": [
        "## Viterbi algorithm"
      ]
    },
    {
      "cell_type": "code",
      "metadata": {
        "id": "nV9JUgZqupbU"
      },
      "source": [
        "def viterbi2(obs,states,tran_mat,emis_mat,start_p):\n",
        "    t1=np.zeros([len(states),len(obs)])\n",
        "    t2=np.zeros([len(states),len(obs)])\n",
        "    temp=np.zeros(len(states))\n",
        "    temp1=np.zeros(len(states))\n",
        "    for j in range(len(states)):\n",
        "        if (states[j],obs[0]) in emis_mat.keys():\n",
        "            t1[j,0]=start_p[j]*emis_mat[(states[j],obs[0])]\n",
        "    for i in range(1,len(obs)):\n",
        "        for j in range(len(states)):\n",
        "            for k in range(len(states)):  \n",
        "                if (states[k],states[j]) in tran_mat.keys() and (states[j],obs[i]) in emis_mat.keys():\n",
        "                    temp[k]=t1[k,i-1]*tran_mat[(states[k],states[j])]*emis_mat[(states[j],obs[i])]\n",
        "                    temp1[k]=t1[k,i-1]*tran_mat[(states[k],states[j])]\n",
        "            t1[j,i]=max(temp)\n",
        "            t2[j,i]=np.argmax(temp1)\n",
        "    z=np.zeros(len(obs))\n",
        "    for t in range(len(obs)):\n",
        "        z[t]=np.argmax(t1[:,t])\n",
        "    x=[]\n",
        "    for i in range(t,-1,-1):\n",
        "        z[i-1]=t2[int(z[i]),i]\n",
        "        x.append(temp_tag[int(z[i-1])])\n",
        "    return(x)"
      ],
      "execution_count": null,
      "outputs": []
    },
    {
      "cell_type": "code",
      "metadata": {
        "id": "ZhNAurydupbU"
      },
      "source": [
        "x=[]\n",
        "for i in range(train.shape[0]):\n",
        "    x.append(viterbi2(train[\"Sentences\"].iloc[i].split(\" \"),temp_tag,transition_p,emission_p,start_p))"
      ],
      "execution_count": null,
      "outputs": []
    },
    {
      "cell_type": "code",
      "metadata": {
        "id": "bDCSGvXFupbc",
        "outputId": "95d590ad-e768-4f0d-8625-271d4d56b7c2"
      },
      "source": [
        "train.shape"
      ],
      "execution_count": null,
      "outputs": [
        {
          "output_type": "execute_result",
          "data": {
            "text/plain": [
              "(45872, 2)"
            ]
          },
          "metadata": {
            "tags": []
          },
          "execution_count": 23
        }
      ]
    },
    {
      "cell_type": "code",
      "metadata": {
        "id": "61LMXozcupbd",
        "outputId": "ba6e53b5-fb98-4a30-b64f-3f60435095d1"
      },
      "source": [
        "np.array(x).T"
      ],
      "execution_count": null,
      "outputs": [
        {
          "output_type": "execute_result",
          "data": {
            "text/plain": [
              "array([list(['LS', 'SYM', 'LS', 'SYM', '(', 'LS', 'SYM', 'SYM', 'SYM', 'SYM', 'SYM', 'LS', 'SYM', 'LS', 'SYM', '(', '(', 'EX', 'MD']),\n",
              "       list(['SYM', 'SYM', 'SYM', 'SYM', 'SYM', 'LS', 'SYM', 'LS', 'SYM', 'LS', 'NNP', 'MD']),\n",
              "       list(['(', 'SYM', 'SYM', 'NNPS', 'LS', 'SYM', 'SYM', 'LS', 'SYM', 'SYM', 'NNPS', 'LS', 'LS', 'SYM', 'SYM', 'LS', 'SYM', 'NNPS', 'LS', 'SYM', 'NNPS', 'LS', 'SYM', 'SYM', 'LS', 'LS', 'SYM', 'SYM', 'LS', 'SYM', 'SYM', 'LS', 'SYM', 'LS', 'SYM', 'SYM', 'NNP', 'MD']),\n",
              "       ...,\n",
              "       list(['SYM', 'SYM', 'LS', 'SYM', 'NNPS', 'LS', 'SYM', 'LS', 'SYM', 'LS', 'SYM', 'NN', 'DT', 'MD']),\n",
              "       list(['MD', 'MD', 'SYM', 'SYM', 'NNPS', 'LS', 'LS', 'LS', 'SYM', 'PRP', 'WRB', 'SYM', 'SYM', 'LS', 'SYM', 'SYM', 'LS', 'SYM', 'EX', '$', 'SYM', 'SYM', 'LS', 'SYM', 'SYM', 'SYM', 'IN', 'MD']),\n",
              "       list(['LS', 'LS', 'SYM', 'SYM', 'SYM', 'SYM', 'SYM', 'SYM', '$', 'SYM', 'SYM', 'LS', 'SYM', 'SYM', 'NNPS', 'LS', 'SYM', 'SYM', 'LS', 'SYM', '(', 'VBD', 'VBD', 'MD'])],\n",
              "      dtype=object)"
            ]
          },
          "metadata": {
            "tags": []
          },
          "execution_count": 24
        }
      ]
    },
    {
      "cell_type": "code",
      "metadata": {
        "id": "6foGq1P8upbe",
        "outputId": "ea622f97-ff94-478d-8d51-03e77c7555bc"
      },
      "source": [
        "np.array(train[\"Sentences\"].iloc[0].split(\" \")).T"
      ],
      "execution_count": null,
      "outputs": [
        {
          "output_type": "execute_result",
          "data": {
            "text/plain": [
              "array(['In', 'a', 'sense', ',', 'the', 'showdown', 'promised', 'by',\n",
              "       'Mr.', \"Hammarskjold's\", 'sudden', 'and', 'tragic', 'death', 'has',\n",
              "       'been', 'avoided', ';', ';'], dtype='<U14')"
            ]
          },
          "metadata": {
            "tags": []
          },
          "execution_count": 25
        }
      ]
    },
    {
      "cell_type": "code",
      "metadata": {
        "id": "7A3pGxqEupbe",
        "outputId": "9c1a40d8-8fc4-485e-af95-49c93f0a575e"
      },
      "source": [
        "np.array(train[\"Tags\"].iloc[0].split(\" \")).T"
      ],
      "execution_count": null,
      "outputs": [
        {
          "output_type": "execute_result",
          "data": {
            "text/plain": [
              "array(['IN', 'DT', 'NN', ',', 'DT', 'NN', 'VBN', 'IN', 'NNP', 'NNP',\n",
              "       'POS', 'JJ', 'CC', 'JJ', 'NN', 'VBZ', 'VBN', 'VBN', ':', ':'],\n",
              "      dtype='<U3')"
            ]
          },
          "metadata": {
            "tags": []
          },
          "execution_count": 26
        }
      ]
    },
    {
      "cell_type": "markdown",
      "metadata": {
        "id": "iu-Hytp_upbe"
      },
      "source": [
        "## Viterbi algorithm"
      ]
    },
    {
      "cell_type": "code",
      "metadata": {
        "id": "RGdkvkleupbf"
      },
      "source": [
        "def viterbi(obs,states,tran_mat,emis_mat,start_p):\n",
        "    t1=np.zeros([len(states),len(obs)])\n",
        "    t2=np.zeros([len(states),len(obs)])\n",
        "    temp=np.zeros(len(states))\n",
        "    temp1=np.zeros(len(states))\n",
        "    for j in range(len(states)):\n",
        "        t1[j,0]=start_p[j]*emis_mat[j,[i for i in range(len(temp_word))if(obs[0]==temp_word[i])][0]]\n",
        "    for i in range(1,len(obs)):\n",
        "        for j in range(len(states)):\n",
        "            for k in range(len(states)):\n",
        "                temp[k]=t1[k,i-1]*tran_mat[k,j]*emis_mat[j,[ t for t in range(len(temp_word))if(obs[i]==temp_word[t])][0]]\n",
        "                temp1[k]=t1[k,i-1]*tran_mat[k,j]\n",
        "            t1[j,i]=max(temp)\n",
        "            t2[j,i]=np.argmax(temp1)\n",
        "    z=np.zeros(len(obs))\n",
        "    for t in range(len(obs)):\n",
        "        z[t]=np.argmax(t1[:,t])\n",
        "    x=[]\n",
        "    for i in range(t,2,-1):\n",
        "        z[i-1]=t2[int(z[i]),i]\n",
        "        x.append(temp_tag[int(z[i-1])])\n",
        "    return(t1,t2,x)"
      ],
      "execution_count": null,
      "outputs": []
    },
    {
      "cell_type": "code",
      "metadata": {
        "id": "n2Dw_Kqzupbg"
      },
      "source": [
        "t1,t2,x=viterbi(train[\"Sentences\"].iloc[0].split(\" \"),temp_tag,tran_mat,emis_mat,start_p)"
      ],
      "execution_count": null,
      "outputs": []
    },
    {
      "cell_type": "code",
      "metadata": {
        "id": "t9R3lAKzupbg"
      },
      "source": [
        ""
      ],
      "execution_count": null,
      "outputs": []
    },
    {
      "cell_type": "code",
      "metadata": {
        "id": "LpM3Jn7dupbg"
      },
      "source": [
        ""
      ],
      "execution_count": null,
      "outputs": []
    }
  ]
}