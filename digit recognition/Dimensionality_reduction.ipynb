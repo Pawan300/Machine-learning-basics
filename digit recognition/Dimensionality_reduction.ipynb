{
  "nbformat": 4,
  "nbformat_minor": 0,
  "metadata": {
    "colab": {
      "name": "digit_recognisation.ipynb",
      "provenance": [],
      "collapsed_sections": [],
      "toc_visible": true,
      "machine_shape": "hm",
      "include_colab_link": true
    },
    "kernelspec": {
      "name": "python3",
      "display_name": "Python 3"
    }
  },
  "cells": [
    {
      "cell_type": "markdown",
      "metadata": {
        "id": "view-in-github",
        "colab_type": "text"
      },
      "source": [
        "<a href=\"https://colab.research.google.com/github/Pawan300/digit-recognition/blob/master/Dimensionality_reduction.ipynb\" target=\"_parent\"><img src=\"https://colab.research.google.com/assets/colab-badge.svg\" alt=\"Open In Colab\"/></a>"
      ]
    },
    {
      "cell_type": "code",
      "metadata": {
        "id": "iNJWWUQcezJz",
        "colab_type": "code",
        "colab": {}
      },
      "source": [
        "import pandas as pd\n",
        "import numpy as np\n",
        "import matplotlib.pyplot as plt\n",
        "import matplotlib.cm as cm\n",
        "from sklearn.decomposition import PCA\n",
        "from sklearn import preprocessing\n",
        "from sklearn.model_selection import train_test_split\n",
        "from sklearn.metrics import f1_score\n",
        "from sklearn.pipeline import Pipeline\n",
        "from sklearn.preprocessing import StandardScaler"
      ],
      "execution_count": 0,
      "outputs": []
    },
    {
      "cell_type": "code",
      "metadata": {
        "id": "yRa8_Ug2ezMi",
        "colab_type": "code",
        "colab": {}
      },
      "source": [
        "test=pd.read_csv(\"/content/drive/My Drive/Colab Notebooks/DIGIT recognisation/test.csv\")\n",
        "train=pd.read_csv(\"/content/drive/My Drive/Colab Notebooks/DIGIT recognisation/train.csv\")"
      ],
      "execution_count": 0,
      "outputs": []
    },
    {
      "cell_type": "code",
      "metadata": {
        "id": "Q_2PcrR0fNZo",
        "colab_type": "code",
        "outputId": "6f467c41-649e-4c7a-f2a1-d4618f8578dd",
        "colab": {
          "base_uri": "https://localhost:8080/",
          "height": 246
        }
      },
      "source": [
        "test.head()"
      ],
      "execution_count": 14,
      "outputs": [
        {
          "output_type": "execute_result",
          "data": {
            "text/html": [
              "<div>\n",
              "<style scoped>\n",
              "    .dataframe tbody tr th:only-of-type {\n",
              "        vertical-align: middle;\n",
              "    }\n",
              "\n",
              "    .dataframe tbody tr th {\n",
              "        vertical-align: top;\n",
              "    }\n",
              "\n",
              "    .dataframe thead th {\n",
              "        text-align: right;\n",
              "    }\n",
              "</style>\n",
              "<table border=\"1\" class=\"dataframe\">\n",
              "  <thead>\n",
              "    <tr style=\"text-align: right;\">\n",
              "      <th></th>\n",
              "      <th>pixel0</th>\n",
              "      <th>pixel1</th>\n",
              "      <th>pixel2</th>\n",
              "      <th>pixel3</th>\n",
              "      <th>pixel4</th>\n",
              "      <th>pixel5</th>\n",
              "      <th>pixel6</th>\n",
              "      <th>pixel7</th>\n",
              "      <th>pixel8</th>\n",
              "      <th>pixel9</th>\n",
              "      <th>pixel10</th>\n",
              "      <th>pixel11</th>\n",
              "      <th>pixel12</th>\n",
              "      <th>pixel13</th>\n",
              "      <th>pixel14</th>\n",
              "      <th>pixel15</th>\n",
              "      <th>pixel16</th>\n",
              "      <th>pixel17</th>\n",
              "      <th>pixel18</th>\n",
              "      <th>pixel19</th>\n",
              "      <th>pixel20</th>\n",
              "      <th>pixel21</th>\n",
              "      <th>pixel22</th>\n",
              "      <th>pixel23</th>\n",
              "      <th>pixel24</th>\n",
              "      <th>pixel25</th>\n",
              "      <th>pixel26</th>\n",
              "      <th>pixel27</th>\n",
              "      <th>pixel28</th>\n",
              "      <th>pixel29</th>\n",
              "      <th>pixel30</th>\n",
              "      <th>pixel31</th>\n",
              "      <th>pixel32</th>\n",
              "      <th>pixel33</th>\n",
              "      <th>pixel34</th>\n",
              "      <th>pixel35</th>\n",
              "      <th>pixel36</th>\n",
              "      <th>pixel37</th>\n",
              "      <th>pixel38</th>\n",
              "      <th>pixel39</th>\n",
              "      <th>...</th>\n",
              "      <th>pixel744</th>\n",
              "      <th>pixel745</th>\n",
              "      <th>pixel746</th>\n",
              "      <th>pixel747</th>\n",
              "      <th>pixel748</th>\n",
              "      <th>pixel749</th>\n",
              "      <th>pixel750</th>\n",
              "      <th>pixel751</th>\n",
              "      <th>pixel752</th>\n",
              "      <th>pixel753</th>\n",
              "      <th>pixel754</th>\n",
              "      <th>pixel755</th>\n",
              "      <th>pixel756</th>\n",
              "      <th>pixel757</th>\n",
              "      <th>pixel758</th>\n",
              "      <th>pixel759</th>\n",
              "      <th>pixel760</th>\n",
              "      <th>pixel761</th>\n",
              "      <th>pixel762</th>\n",
              "      <th>pixel763</th>\n",
              "      <th>pixel764</th>\n",
              "      <th>pixel765</th>\n",
              "      <th>pixel766</th>\n",
              "      <th>pixel767</th>\n",
              "      <th>pixel768</th>\n",
              "      <th>pixel769</th>\n",
              "      <th>pixel770</th>\n",
              "      <th>pixel771</th>\n",
              "      <th>pixel772</th>\n",
              "      <th>pixel773</th>\n",
              "      <th>pixel774</th>\n",
              "      <th>pixel775</th>\n",
              "      <th>pixel776</th>\n",
              "      <th>pixel777</th>\n",
              "      <th>pixel778</th>\n",
              "      <th>pixel779</th>\n",
              "      <th>pixel780</th>\n",
              "      <th>pixel781</th>\n",
              "      <th>pixel782</th>\n",
              "      <th>pixel783</th>\n",
              "    </tr>\n",
              "  </thead>\n",
              "  <tbody>\n",
              "    <tr>\n",
              "      <th>0</th>\n",
              "      <td>0</td>\n",
              "      <td>0</td>\n",
              "      <td>0</td>\n",
              "      <td>0</td>\n",
              "      <td>0</td>\n",
              "      <td>0</td>\n",
              "      <td>0</td>\n",
              "      <td>0</td>\n",
              "      <td>0</td>\n",
              "      <td>0</td>\n",
              "      <td>0</td>\n",
              "      <td>0</td>\n",
              "      <td>0</td>\n",
              "      <td>0</td>\n",
              "      <td>0</td>\n",
              "      <td>0</td>\n",
              "      <td>0</td>\n",
              "      <td>0</td>\n",
              "      <td>0</td>\n",
              "      <td>0</td>\n",
              "      <td>0</td>\n",
              "      <td>0</td>\n",
              "      <td>0</td>\n",
              "      <td>0</td>\n",
              "      <td>0</td>\n",
              "      <td>0</td>\n",
              "      <td>0</td>\n",
              "      <td>0</td>\n",
              "      <td>0</td>\n",
              "      <td>0</td>\n",
              "      <td>0</td>\n",
              "      <td>0</td>\n",
              "      <td>0</td>\n",
              "      <td>0</td>\n",
              "      <td>0</td>\n",
              "      <td>0</td>\n",
              "      <td>0</td>\n",
              "      <td>0</td>\n",
              "      <td>0</td>\n",
              "      <td>0</td>\n",
              "      <td>...</td>\n",
              "      <td>0</td>\n",
              "      <td>0</td>\n",
              "      <td>0</td>\n",
              "      <td>0</td>\n",
              "      <td>0</td>\n",
              "      <td>0</td>\n",
              "      <td>0</td>\n",
              "      <td>0</td>\n",
              "      <td>0</td>\n",
              "      <td>0</td>\n",
              "      <td>0</td>\n",
              "      <td>0</td>\n",
              "      <td>0</td>\n",
              "      <td>0</td>\n",
              "      <td>0</td>\n",
              "      <td>0</td>\n",
              "      <td>0</td>\n",
              "      <td>0</td>\n",
              "      <td>0</td>\n",
              "      <td>0</td>\n",
              "      <td>0</td>\n",
              "      <td>0</td>\n",
              "      <td>0</td>\n",
              "      <td>0</td>\n",
              "      <td>0</td>\n",
              "      <td>0</td>\n",
              "      <td>0</td>\n",
              "      <td>0</td>\n",
              "      <td>0</td>\n",
              "      <td>0</td>\n",
              "      <td>0</td>\n",
              "      <td>0</td>\n",
              "      <td>0</td>\n",
              "      <td>0</td>\n",
              "      <td>0</td>\n",
              "      <td>0</td>\n",
              "      <td>0</td>\n",
              "      <td>0</td>\n",
              "      <td>0</td>\n",
              "      <td>0</td>\n",
              "    </tr>\n",
              "    <tr>\n",
              "      <th>1</th>\n",
              "      <td>0</td>\n",
              "      <td>0</td>\n",
              "      <td>0</td>\n",
              "      <td>0</td>\n",
              "      <td>0</td>\n",
              "      <td>0</td>\n",
              "      <td>0</td>\n",
              "      <td>0</td>\n",
              "      <td>0</td>\n",
              "      <td>0</td>\n",
              "      <td>0</td>\n",
              "      <td>0</td>\n",
              "      <td>0</td>\n",
              "      <td>0</td>\n",
              "      <td>0</td>\n",
              "      <td>0</td>\n",
              "      <td>0</td>\n",
              "      <td>0</td>\n",
              "      <td>0</td>\n",
              "      <td>0</td>\n",
              "      <td>0</td>\n",
              "      <td>0</td>\n",
              "      <td>0</td>\n",
              "      <td>0</td>\n",
              "      <td>0</td>\n",
              "      <td>0</td>\n",
              "      <td>0</td>\n",
              "      <td>0</td>\n",
              "      <td>0</td>\n",
              "      <td>0</td>\n",
              "      <td>0</td>\n",
              "      <td>0</td>\n",
              "      <td>0</td>\n",
              "      <td>0</td>\n",
              "      <td>0</td>\n",
              "      <td>0</td>\n",
              "      <td>0</td>\n",
              "      <td>0</td>\n",
              "      <td>0</td>\n",
              "      <td>0</td>\n",
              "      <td>...</td>\n",
              "      <td>0</td>\n",
              "      <td>0</td>\n",
              "      <td>0</td>\n",
              "      <td>0</td>\n",
              "      <td>0</td>\n",
              "      <td>0</td>\n",
              "      <td>0</td>\n",
              "      <td>0</td>\n",
              "      <td>0</td>\n",
              "      <td>0</td>\n",
              "      <td>0</td>\n",
              "      <td>0</td>\n",
              "      <td>0</td>\n",
              "      <td>0</td>\n",
              "      <td>0</td>\n",
              "      <td>0</td>\n",
              "      <td>0</td>\n",
              "      <td>0</td>\n",
              "      <td>0</td>\n",
              "      <td>0</td>\n",
              "      <td>0</td>\n",
              "      <td>0</td>\n",
              "      <td>0</td>\n",
              "      <td>0</td>\n",
              "      <td>0</td>\n",
              "      <td>0</td>\n",
              "      <td>0</td>\n",
              "      <td>0</td>\n",
              "      <td>0</td>\n",
              "      <td>0</td>\n",
              "      <td>0</td>\n",
              "      <td>0</td>\n",
              "      <td>0</td>\n",
              "      <td>0</td>\n",
              "      <td>0</td>\n",
              "      <td>0</td>\n",
              "      <td>0</td>\n",
              "      <td>0</td>\n",
              "      <td>0</td>\n",
              "      <td>0</td>\n",
              "    </tr>\n",
              "    <tr>\n",
              "      <th>2</th>\n",
              "      <td>0</td>\n",
              "      <td>0</td>\n",
              "      <td>0</td>\n",
              "      <td>0</td>\n",
              "      <td>0</td>\n",
              "      <td>0</td>\n",
              "      <td>0</td>\n",
              "      <td>0</td>\n",
              "      <td>0</td>\n",
              "      <td>0</td>\n",
              "      <td>0</td>\n",
              "      <td>0</td>\n",
              "      <td>0</td>\n",
              "      <td>0</td>\n",
              "      <td>0</td>\n",
              "      <td>0</td>\n",
              "      <td>0</td>\n",
              "      <td>0</td>\n",
              "      <td>0</td>\n",
              "      <td>0</td>\n",
              "      <td>0</td>\n",
              "      <td>0</td>\n",
              "      <td>0</td>\n",
              "      <td>0</td>\n",
              "      <td>0</td>\n",
              "      <td>0</td>\n",
              "      <td>0</td>\n",
              "      <td>0</td>\n",
              "      <td>0</td>\n",
              "      <td>0</td>\n",
              "      <td>0</td>\n",
              "      <td>0</td>\n",
              "      <td>0</td>\n",
              "      <td>0</td>\n",
              "      <td>0</td>\n",
              "      <td>0</td>\n",
              "      <td>0</td>\n",
              "      <td>0</td>\n",
              "      <td>0</td>\n",
              "      <td>0</td>\n",
              "      <td>...</td>\n",
              "      <td>0</td>\n",
              "      <td>0</td>\n",
              "      <td>0</td>\n",
              "      <td>0</td>\n",
              "      <td>0</td>\n",
              "      <td>0</td>\n",
              "      <td>0</td>\n",
              "      <td>0</td>\n",
              "      <td>0</td>\n",
              "      <td>0</td>\n",
              "      <td>0</td>\n",
              "      <td>0</td>\n",
              "      <td>0</td>\n",
              "      <td>0</td>\n",
              "      <td>0</td>\n",
              "      <td>0</td>\n",
              "      <td>0</td>\n",
              "      <td>0</td>\n",
              "      <td>0</td>\n",
              "      <td>0</td>\n",
              "      <td>0</td>\n",
              "      <td>0</td>\n",
              "      <td>0</td>\n",
              "      <td>0</td>\n",
              "      <td>0</td>\n",
              "      <td>0</td>\n",
              "      <td>0</td>\n",
              "      <td>0</td>\n",
              "      <td>0</td>\n",
              "      <td>0</td>\n",
              "      <td>0</td>\n",
              "      <td>0</td>\n",
              "      <td>0</td>\n",
              "      <td>0</td>\n",
              "      <td>0</td>\n",
              "      <td>0</td>\n",
              "      <td>0</td>\n",
              "      <td>0</td>\n",
              "      <td>0</td>\n",
              "      <td>0</td>\n",
              "    </tr>\n",
              "    <tr>\n",
              "      <th>3</th>\n",
              "      <td>0</td>\n",
              "      <td>0</td>\n",
              "      <td>0</td>\n",
              "      <td>0</td>\n",
              "      <td>0</td>\n",
              "      <td>0</td>\n",
              "      <td>0</td>\n",
              "      <td>0</td>\n",
              "      <td>0</td>\n",
              "      <td>0</td>\n",
              "      <td>0</td>\n",
              "      <td>0</td>\n",
              "      <td>0</td>\n",
              "      <td>0</td>\n",
              "      <td>0</td>\n",
              "      <td>0</td>\n",
              "      <td>0</td>\n",
              "      <td>0</td>\n",
              "      <td>0</td>\n",
              "      <td>0</td>\n",
              "      <td>0</td>\n",
              "      <td>0</td>\n",
              "      <td>0</td>\n",
              "      <td>0</td>\n",
              "      <td>0</td>\n",
              "      <td>0</td>\n",
              "      <td>0</td>\n",
              "      <td>0</td>\n",
              "      <td>0</td>\n",
              "      <td>0</td>\n",
              "      <td>0</td>\n",
              "      <td>0</td>\n",
              "      <td>0</td>\n",
              "      <td>0</td>\n",
              "      <td>0</td>\n",
              "      <td>0</td>\n",
              "      <td>0</td>\n",
              "      <td>0</td>\n",
              "      <td>0</td>\n",
              "      <td>0</td>\n",
              "      <td>...</td>\n",
              "      <td>0</td>\n",
              "      <td>0</td>\n",
              "      <td>0</td>\n",
              "      <td>0</td>\n",
              "      <td>0</td>\n",
              "      <td>0</td>\n",
              "      <td>0</td>\n",
              "      <td>0</td>\n",
              "      <td>0</td>\n",
              "      <td>0</td>\n",
              "      <td>0</td>\n",
              "      <td>0</td>\n",
              "      <td>0</td>\n",
              "      <td>0</td>\n",
              "      <td>0</td>\n",
              "      <td>0</td>\n",
              "      <td>0</td>\n",
              "      <td>0</td>\n",
              "      <td>0</td>\n",
              "      <td>0</td>\n",
              "      <td>0</td>\n",
              "      <td>0</td>\n",
              "      <td>0</td>\n",
              "      <td>0</td>\n",
              "      <td>0</td>\n",
              "      <td>0</td>\n",
              "      <td>0</td>\n",
              "      <td>0</td>\n",
              "      <td>0</td>\n",
              "      <td>0</td>\n",
              "      <td>0</td>\n",
              "      <td>0</td>\n",
              "      <td>0</td>\n",
              "      <td>0</td>\n",
              "      <td>0</td>\n",
              "      <td>0</td>\n",
              "      <td>0</td>\n",
              "      <td>0</td>\n",
              "      <td>0</td>\n",
              "      <td>0</td>\n",
              "    </tr>\n",
              "    <tr>\n",
              "      <th>4</th>\n",
              "      <td>0</td>\n",
              "      <td>0</td>\n",
              "      <td>0</td>\n",
              "      <td>0</td>\n",
              "      <td>0</td>\n",
              "      <td>0</td>\n",
              "      <td>0</td>\n",
              "      <td>0</td>\n",
              "      <td>0</td>\n",
              "      <td>0</td>\n",
              "      <td>0</td>\n",
              "      <td>0</td>\n",
              "      <td>0</td>\n",
              "      <td>0</td>\n",
              "      <td>0</td>\n",
              "      <td>0</td>\n",
              "      <td>0</td>\n",
              "      <td>0</td>\n",
              "      <td>0</td>\n",
              "      <td>0</td>\n",
              "      <td>0</td>\n",
              "      <td>0</td>\n",
              "      <td>0</td>\n",
              "      <td>0</td>\n",
              "      <td>0</td>\n",
              "      <td>0</td>\n",
              "      <td>0</td>\n",
              "      <td>0</td>\n",
              "      <td>0</td>\n",
              "      <td>0</td>\n",
              "      <td>0</td>\n",
              "      <td>0</td>\n",
              "      <td>0</td>\n",
              "      <td>0</td>\n",
              "      <td>0</td>\n",
              "      <td>0</td>\n",
              "      <td>0</td>\n",
              "      <td>0</td>\n",
              "      <td>0</td>\n",
              "      <td>0</td>\n",
              "      <td>...</td>\n",
              "      <td>0</td>\n",
              "      <td>0</td>\n",
              "      <td>0</td>\n",
              "      <td>0</td>\n",
              "      <td>0</td>\n",
              "      <td>0</td>\n",
              "      <td>0</td>\n",
              "      <td>0</td>\n",
              "      <td>0</td>\n",
              "      <td>0</td>\n",
              "      <td>0</td>\n",
              "      <td>0</td>\n",
              "      <td>0</td>\n",
              "      <td>0</td>\n",
              "      <td>0</td>\n",
              "      <td>0</td>\n",
              "      <td>0</td>\n",
              "      <td>0</td>\n",
              "      <td>0</td>\n",
              "      <td>0</td>\n",
              "      <td>0</td>\n",
              "      <td>0</td>\n",
              "      <td>0</td>\n",
              "      <td>0</td>\n",
              "      <td>0</td>\n",
              "      <td>0</td>\n",
              "      <td>0</td>\n",
              "      <td>0</td>\n",
              "      <td>0</td>\n",
              "      <td>0</td>\n",
              "      <td>0</td>\n",
              "      <td>0</td>\n",
              "      <td>0</td>\n",
              "      <td>0</td>\n",
              "      <td>0</td>\n",
              "      <td>0</td>\n",
              "      <td>0</td>\n",
              "      <td>0</td>\n",
              "      <td>0</td>\n",
              "      <td>0</td>\n",
              "    </tr>\n",
              "  </tbody>\n",
              "</table>\n",
              "<p>5 rows × 784 columns</p>\n",
              "</div>"
            ],
            "text/plain": [
              "   pixel0  pixel1  pixel2  pixel3  ...  pixel780  pixel781  pixel782  pixel783\n",
              "0       0       0       0       0  ...         0         0         0         0\n",
              "1       0       0       0       0  ...         0         0         0         0\n",
              "2       0       0       0       0  ...         0         0         0         0\n",
              "3       0       0       0       0  ...         0         0         0         0\n",
              "4       0       0       0       0  ...         0         0         0         0\n",
              "\n",
              "[5 rows x 784 columns]"
            ]
          },
          "metadata": {
            "tags": []
          },
          "execution_count": 14
        }
      ]
    },
    {
      "cell_type": "code",
      "metadata": {
        "id": "EYV13nYXk1oh",
        "colab_type": "code",
        "colab": {}
      },
      "source": [
        "X=train.iloc[:,1:]"
      ],
      "execution_count": 0,
      "outputs": []
    },
    {
      "cell_type": "code",
      "metadata": {
        "id": "XGL1pD_9ioeW",
        "colab_type": "code",
        "outputId": "21bff425-220d-425b-8f1f-881d5a2db656",
        "colab": {
          "base_uri": "https://localhost:8080/",
          "height": 264
        }
      },
      "source": [
        "def plot(i,data,j):\n",
        "  plt.imshow(np.array(data.iloc[i]).reshape(28,28), cmap=cm.gray)\n",
        "  plt.figure(j)\n",
        "\n",
        "plot(4,X,1)"
      ],
      "execution_count": 16,
      "outputs": [
        {
          "output_type": "display_data",
          "data": {
            "image/png": "[encoded data removed]",
            "text/plain": [
              "<Figure size 432x288 with 1 Axes>"
            ]
          },
          "metadata": {
            "tags": []
          }
        }
      ]
    },
    {
      "cell_type": "code",
      "metadata": {
        "id": "4du_nGW45yIC",
        "colab_type": "code",
        "colab": {}
      },
      "source": [
        "x_train,x_test,x_train_label,x_test_label=train_test_split(X,train['label'],train_size=0.8)"
      ],
      "execution_count": 0,
      "outputs": []
    },
    {
      "cell_type": "markdown",
      "metadata": {
        "id": "5VawFKSGMuso",
        "colab_type": "text"
      },
      "source": [
        "# kPca imlementation(kernel PCA)"
      ]
    },
    {
      "cell_type": "code",
      "metadata": {
        "colab_type": "code",
        "id": "spPBqbS6ytib",
        "colab": {}
      },
      "source": [
        "m = np.mean(X, axis=0) # array([16.25, 26.25])\n",
        "std = np.std(X, axis=0)"
      ],
      "execution_count": 0,
      "outputs": []
    },
    {
      "cell_type": "code",
      "metadata": {
        "colab_type": "code",
        "outputId": "b4fb1bac-ed9f-4bfc-9ddc-53af395580b6",
        "id": "88fzYhVqys8s",
        "colab": {
          "base_uri": "https://localhost:8080/",
          "height": 178
        }
      },
      "source": [
        "for i in range(len(std)):\n",
        "  if(std[i]!=0):\n",
        "    X[X.columns[i]]=0.07957/std[i]* np.exp(-0.5/std[i]**2*(X[X.columns[i]]-m[i]))"
      ],
      "execution_count": 0,
      "outputs": [
        {
          "output_type": "stream",
          "text": [
            "/usr/local/lib/python3.6/dist-packages/ipykernel_launcher.py:3: SettingWithCopyWarning: \n",
            "A value is trying to be set on a copy of a slice from a DataFrame.\n",
            "Try using .loc[row_indexer,col_indexer] = value instead\n",
            "\n",
            "See the caveats in the documentation: http://pandas.pydata.org/pandas-docs/stable/user_guide/indexing.html#returning-a-view-versus-a-copy\n",
            "  This is separate from the ipykernel package so we can avoid doing imports until\n",
            "/usr/local/lib/python3.6/dist-packages/pandas/core/series.py:856: RuntimeWarning: overflow encountered in exp\n",
            "  result = getattr(ufunc, method)(*inputs, **kwargs)\n"
          ],
          "name": "stderr"
        }
      ]
    },
    {
      "cell_type": "code",
      "metadata": {
        "id": "UAw5zefMTuai",
        "colab_type": "code",
        "colab": {}
      },
      "source": [
        "def pca_model2(data,component):\n",
        "    cov_mat=np.cov(data,rowvar=False)\n",
        "    eigen=np.linalg.eigh(cov_mat)\n",
        "    pca=np.matrix(eigen[1][-component:])\n",
        "    x_bar=(pca.T.dot(pca.dot(data.T))).T\n",
        "    return(x_bar)"
      ],
      "execution_count": 0,
      "outputs": []
    },
    {
      "cell_type": "code",
      "metadata": {
        "id": "PxEHMQKiUPz-",
        "colab_type": "code",
        "colab": {}
      },
      "source": [
        "def plot2(l):\n",
        "  for i in range(len(l)):\n",
        "    res=pca_model2(X,l[i])\n",
        "    plot(4,pd.DataFrame(res),i)"
      ],
      "execution_count": 0,
      "outputs": []
    },
    {
      "cell_type": "code",
      "metadata": {
        "id": "o10Ka0ZrYN5N",
        "colab_type": "code",
        "outputId": "3b68f00e-8112-4a52-fed3-cfaf94851aeb",
        "colab": {
          "base_uri": "https://localhost:8080/",
          "height": 1000
        }
      },
      "source": [
        "plot2([100,300,400,500,600,700,784])"
      ],
      "execution_count": 146,
      "outputs": [
        {
          "output_type": "display_data",
          "data": {
            "image/png": "[encoded data removed]",
            "text/plain": [
              "<Figure size 432x288 with 1 Axes>"
            ]
          },
          "metadata": {
            "tags": []
          }
        },
        {
          "output_type": "display_data",
          "data": {
            "image/png": "[encoded data removed]",
            "text/plain": [
              "<Figure size 432x288 with 1 Axes>"
            ]
          },
          "metadata": {
            "tags": []
          }
        },
        {
          "output_type": "display_data",
          "data": {
            "image/png": "[encoded data removed]",
            "text/plain": [
              "<Figure size 432x288 with 1 Axes>"
            ]
          },
          "metadata": {
            "tags": []
          }
        },
        {
          "output_type": "display_data",
          "data": {
            "image/png": "[encoded data removed]",
            "text/plain": [
              "<Figure size 432x288 with 1 Axes>"
            ]
          },
          "metadata": {
            "tags": []
          }
        },
        {
          "output_type": "display_data",
          "data": {
            "image/png": "[encoded data removed]",
            "text/plain": [
              "<Figure size 432x288 with 1 Axes>"
            ]
          },
          "metadata": {
            "tags": []
          }
        },
        {
          "output_type": "display_data",
          "data": {
            "image/png": "[encoded data removed]",
            "text/plain": [
              "<Figure size 432x288 with 1 Axes>"
            ]
          },
          "metadata": {
            "tags": []
          }
        },
        {
          "output_type": "display_data",
          "data": {
            "text/plain": [
              "<Figure size 432x288 with 0 Axes>"
            ]
          },
          "metadata": {
            "tags": []
          }
        }
      ]
    },
    {
      "cell_type": "markdown",
      "metadata": {
        "id": "h1bfPfulzNLv",
        "colab_type": "text"
      },
      "source": [
        "### Autoencoders"
      ]
    },
    {
      "cell_type": "code",
      "metadata": {
        "id": "IpTmT_QzzL3N",
        "colab_type": "code",
        "colab": {
          "base_uri": "https://localhost:8080/",
          "height": 63
        },
        "outputId": "a076eefc-ea8b-46f0-a059-013a30a6f2c0"
      },
      "source": [
        "from tensorflow.keras.layers import Input,Dense\n",
        "from tensorflow.keras.models import Model"
      ],
      "execution_count": 8,
      "outputs": [
        {
          "output_type": "display_data",
          "data": {
            "text/html": [
              "<p style=\"color: red;\">\n",
              "The default version of TensorFlow in Colab will soon switch to TensorFlow 2.x.<br>\n",
              "We recommend you <a href=\"https://www.tensorflow.org/guide/migrate\" target=\"_blank\">upgrade</a> now \n",
              "or ensure your notebook will continue to use TensorFlow 1.x via the <code>%tensorflow_version 1.x</code> magic:\n",
              "<a href=\"https://colab.research.google.com/notebooks/tensorflow_version.ipynb\" target=\"_blank\">more info</a>.</p>\n"
            ],
            "text/plain": [
              "<IPython.core.display.HTML object>"
            ]
          },
          "metadata": {
            "tags": []
          }
        }
      ]
    },
    {
      "cell_type": "markdown",
      "metadata": {
        "id": "zN-JYw5QcbLN",
        "colab_type": "text"
      },
      "source": [
        "### Single layer"
      ]
    },
    {
      "cell_type": "code",
      "metadata": {
        "id": "AvjHIyiRzLzi",
        "colab_type": "code",
        "colab": {
          "base_uri": "https://localhost:8080/",
          "height": 143
        },
        "outputId": "c32830cc-c5ec-4066-f662-74762f01eba5"
      },
      "source": [
        "layer_size=64\n",
        "input_shape=Input(shape=(784,))\n",
        "\n",
        "encoded=Dense(layer_size,activation='tanh')(input_shape)\n",
        "\n",
        "decoded=Dense(784,activation='sigmoid')(encoded)\n",
        "\n",
        "autoencoder=Model(input_shape,decoded)\n",
        "\n",
        "autoencoder.compile(optimizer='adadelta',loss='binary_crossentropy')\n",
        "\n",
        "encoder = Model(input_shape, encoded)\n",
        "encoded_input = Input(shape=(layer_size,))\n",
        "decoder_layer = autoencoder.layers[-1]\n",
        "decoder = Model(encoded_input, decoder_layer(encoded_input))\n"
      ],
      "execution_count": 9,
      "outputs": [
        {
          "output_type": "stream",
          "text": [
            "WARNING:tensorflow:From /usr/local/lib/python3.6/dist-packages/tensorflow_core/python/ops/resource_variable_ops.py:1630: calling BaseResourceVariable.__init__ (from tensorflow.python.ops.resource_variable_ops) with constraint is deprecated and will be removed in a future version.\n",
            "Instructions for updating:\n",
            "If using Keras pass *_constraint arguments to layers.\n",
            "WARNING:tensorflow:From /usr/local/lib/python3.6/dist-packages/tensorflow_core/python/ops/nn_impl.py:183: where (from tensorflow.python.ops.array_ops) is deprecated and will be removed in a future version.\n",
            "Instructions for updating:\n",
            "Use tf.where in 2.0, which has the same broadcast rule as np.where\n"
          ],
          "name": "stdout"
        }
      ]
    },
    {
      "cell_type": "code",
      "metadata": {
        "id": "4-Z5VeT17AmZ",
        "colab_type": "code",
        "colab": {
          "base_uri": "https://localhost:8080/",
          "height": 265
        },
        "outputId": "0eaf9f1e-4bbd-4656-87b5-199f8456056e"
      },
      "source": [
        "autoencoder.summary()"
      ],
      "execution_count": 10,
      "outputs": [
        {
          "output_type": "stream",
          "text": [
            "Model: \"model\"\n",
            "_________________________________________________________________\n",
            "Layer (type)                 Output Shape              Param #   \n",
            "=================================================================\n",
            "input_1 (InputLayer)         [(None, 784)]             0         \n",
            "_________________________________________________________________\n",
            "dense (Dense)                (None, 64)                50240     \n",
            "_________________________________________________________________\n",
            "dense_1 (Dense)              (None, 784)               50960     \n",
            "=================================================================\n",
            "Total params: 101,200\n",
            "Trainable params: 101,200\n",
            "Non-trainable params: 0\n",
            "_________________________________________________________________\n"
          ],
          "name": "stdout"
        }
      ]
    },
    {
      "cell_type": "markdown",
      "metadata": {
        "id": "LbYEucsVckmU",
        "colab_type": "text"
      },
      "source": [
        "### Mulitlayer"
      ]
    },
    {
      "cell_type": "code",
      "metadata": {
        "id": "aPiWt7i3ckG9",
        "colab_type": "code",
        "colab": {}
      },
      "source": [
        "layer_size = 64\n",
        "\n",
        "input_shape = Input(shape=(784,))\n",
        "\n",
        "# Encoder\n",
        "hidden_1 = Dense(layer_size, activation='relu')(input_shape)\n",
        "encoded = Dense(64, activation='relu')(hidden_1)\n",
        "\n",
        "# Decoder\n",
        "hidden_2 = Dense(layer_size, activation='relu')(encoded)\n",
        "decoded = Dense(784, activation='sigmoid')(hidden_2)\n",
        "\n",
        "autoencoder = Model(input_shape,decoded)\n",
        "autoencoder.compile(optimizer='adam', loss='binary_crossentropy')\n",
        "\n",
        "encoder = Model(input_shape, encoded)\n",
        "encoded_input = Input(shape=(layer_size,))\n",
        "decoder_layer = autoencoder.layers[-1]\n",
        "decoder = Model(encoded_input, decoder_layer(encoded_input))"
      ],
      "execution_count": 0,
      "outputs": []
    },
    {
      "cell_type": "code",
      "metadata": {
        "id": "7D2iv2qe8EIR",
        "colab_type": "code",
        "outputId": "37a2f029-24e3-4294-856c-aeb09cf39471",
        "colab": {
          "base_uri": "https://localhost:8080/",
          "height": 336
        }
      },
      "source": [
        "autoencoder.summary()"
      ],
      "execution_count": 131,
      "outputs": [
        {
          "output_type": "stream",
          "text": [
            "Model: \"model_40\"\n",
            "_________________________________________________________________\n",
            "Layer (type)                 Output Shape              Param #   \n",
            "=================================================================\n",
            "input_32 (InputLayer)        [(None, 784)]             0         \n",
            "_________________________________________________________________\n",
            "dense_44 (Dense)             (None, 64)                50240     \n",
            "_________________________________________________________________\n",
            "dense_45 (Dense)             (None, 64)                4160      \n",
            "_________________________________________________________________\n",
            "dense_46 (Dense)             (None, 64)                4160      \n",
            "_________________________________________________________________\n",
            "dense_47 (Dense)             (None, 784)               50960     \n",
            "=================================================================\n",
            "Total params: 109,520\n",
            "Trainable params: 109,520\n",
            "Non-trainable params: 0\n",
            "_________________________________________________________________\n"
          ],
          "name": "stdout"
        }
      ]
    },
    {
      "cell_type": "code",
      "metadata": {
        "id": "qbKU86DSzLwB",
        "colab_type": "code",
        "outputId": "3ab1c94a-0a56-4302-e37a-b90bc7fdc317",
        "colab": {
          "base_uri": "https://localhost:8080/",
          "height": 1000
        }
      },
      "source": [
        "train=train.drop('label',axis=1)\n",
        "autoencoder.fit(train,train,epochs=50,batch_size=128,shuffle=True,\n",
        "                validation_data=(x_test, x_test))"
      ],
      "execution_count": 18,
      "outputs": [
        {
          "output_type": "stream",
          "text": [
            "Train on 42000 samples, validate on 8400 samples\n",
            "Epoch 1/50\n",
            "42000/42000 [==============================] - 5s 112us/sample - loss: -2.3149 - val_loss: -2.7649\n",
            "Epoch 2/50\n",
            "42000/42000 [==============================] - 5s 111us/sample - loss: -3.2972 - val_loss: -3.7802\n",
            "Epoch 3/50\n",
            "42000/42000 [==============================] - 5s 114us/sample - loss: -4.3710 - val_loss: -4.8901\n",
            "Epoch 4/50\n",
            "42000/42000 [==============================] - 5s 113us/sample - loss: -5.5387 - val_loss: -6.0993\n",
            "Epoch 5/50\n",
            "42000/42000 [==============================] - 5s 114us/sample - loss: -6.8041 - val_loss: -7.4024\n",
            "Epoch 6/50\n",
            "42000/42000 [==============================] - 5s 111us/sample - loss: -8.1682 - val_loss: -8.8086\n",
            "Epoch 7/50\n",
            "42000/42000 [==============================] - 5s 113us/sample - loss: -9.6343 - val_loss: -10.3148\n",
            "Epoch 8/50\n",
            "42000/42000 [==============================] - 5s 110us/sample - loss: -11.2077 - val_loss: -11.9233\n",
            "Epoch 9/50\n",
            "42000/42000 [==============================] - 5s 114us/sample - loss: -12.8826 - val_loss: -13.6377\n",
            "Epoch 10/50\n",
            "42000/42000 [==============================] - 5s 116us/sample - loss: -14.6611 - val_loss: -15.4601\n",
            "Epoch 11/50\n",
            "42000/42000 [==============================] - 5s 112us/sample - loss: -16.5372 - val_loss: -17.3774\n",
            "Epoch 12/50\n",
            "42000/42000 [==============================] - 5s 111us/sample - loss: -18.5050 - val_loss: -19.3773\n",
            "Epoch 13/50\n",
            "42000/42000 [==============================] - 5s 113us/sample - loss: -20.5628 - val_loss: -21.4796\n",
            "Epoch 14/50\n",
            "42000/42000 [==============================] - 5s 120us/sample - loss: -22.7189 - val_loss: -23.6746\n",
            "Epoch 15/50\n",
            "42000/42000 [==============================] - 5s 120us/sample - loss: -24.9632 - val_loss: -25.9461\n",
            "Epoch 16/50\n",
            "42000/42000 [==============================] - 5s 108us/sample - loss: -27.2917 - val_loss: -28.2990\n",
            "Epoch 17/50\n",
            "42000/42000 [==============================] - 4s 103us/sample - loss: -29.7000 - val_loss: -30.7355\n",
            "Epoch 18/50\n",
            "42000/42000 [==============================] - 5s 109us/sample - loss: -32.1878 - val_loss: -33.2537\n",
            "Epoch 19/50\n",
            "42000/42000 [==============================] - 5s 110us/sample - loss: -34.7507 - val_loss: -35.8445\n",
            "Epoch 20/50\n",
            "42000/42000 [==============================] - 4s 106us/sample - loss: -37.3850 - val_loss: -38.5018\n",
            "Epoch 21/50\n",
            "42000/42000 [==============================] - 5s 109us/sample - loss: -40.0873 - val_loss: -41.2191\n",
            "Epoch 22/50\n",
            "42000/42000 [==============================] - 5s 111us/sample - loss: -42.8562 - val_loss: -44.0058\n",
            "Epoch 23/50\n",
            "42000/42000 [==============================] - 5s 113us/sample - loss: -45.6860 - val_loss: -46.8533\n",
            "Epoch 24/50\n",
            "42000/42000 [==============================] - 5s 111us/sample - loss: -48.5837 - val_loss: -49.7639\n",
            "Epoch 25/50\n",
            "42000/42000 [==============================] - 5s 112us/sample - loss: -51.5457 - val_loss: -52.7442\n",
            "Epoch 26/50\n",
            "42000/42000 [==============================] - 5s 108us/sample - loss: -54.5655 - val_loss: -55.7838\n",
            "Epoch 27/50\n",
            "42000/42000 [==============================] - 5s 107us/sample - loss: -57.6397 - val_loss: -58.8684\n",
            "Epoch 28/50\n",
            "42000/42000 [==============================] - 4s 105us/sample - loss: -60.7677 - val_loss: -62.0047\n",
            "Epoch 29/50\n",
            "42000/42000 [==============================] - 4s 107us/sample - loss: -63.9424 - val_loss: -65.2050\n",
            "Epoch 30/50\n",
            "42000/42000 [==============================] - 4s 107us/sample - loss: -67.1680 - val_loss: -68.4386\n",
            "Epoch 31/50\n",
            "42000/42000 [==============================] - 4s 105us/sample - loss: -70.4457 - val_loss: -71.7284\n",
            "Epoch 32/50\n",
            "42000/42000 [==============================] - 4s 104us/sample - loss: -73.7649 - val_loss: -75.0627\n",
            "Epoch 33/50\n",
            "42000/42000 [==============================] - 4s 106us/sample - loss: -77.1270 - val_loss: -78.4392\n",
            "Epoch 34/50\n",
            "42000/42000 [==============================] - 5s 109us/sample - loss: -80.5249 - val_loss: -81.8551\n",
            "Epoch 35/50\n",
            "42000/42000 [==============================] - 4s 104us/sample - loss: -83.9695 - val_loss: -85.3113\n",
            "Epoch 36/50\n",
            "42000/42000 [==============================] - 5s 113us/sample - loss: -87.4516 - val_loss: -88.7955\n",
            "Epoch 37/50\n",
            "42000/42000 [==============================] - 5s 110us/sample - loss: -90.9671 - val_loss: -92.3183\n",
            "Epoch 38/50\n",
            "42000/42000 [==============================] - 5s 107us/sample - loss: -94.5098 - val_loss: -95.8665\n",
            "Epoch 39/50\n",
            "42000/42000 [==============================] - 5s 109us/sample - loss: -98.0864 - val_loss: -99.4506\n",
            "Epoch 40/50\n",
            "42000/42000 [==============================] - 4s 106us/sample - loss: -101.7071 - val_loss: -103.0754\n",
            "Epoch 41/50\n",
            "42000/42000 [==============================] - 4s 104us/sample - loss: -105.3693 - val_loss: -106.7338\n",
            "Epoch 42/50\n",
            "42000/42000 [==============================] - 5s 109us/sample - loss: -109.0708 - val_loss: -110.4228\n",
            "Epoch 43/50\n",
            "42000/42000 [==============================] - 5s 108us/sample - loss: -112.7924 - val_loss: -114.1384\n",
            "Epoch 44/50\n",
            "42000/42000 [==============================] - 4s 106us/sample - loss: -116.5375 - val_loss: -117.8806\n",
            "Epoch 45/50\n",
            "42000/42000 [==============================] - 4s 107us/sample - loss: -120.3088 - val_loss: -121.6478\n",
            "Epoch 46/50\n",
            "42000/42000 [==============================] - 4s 107us/sample - loss: -124.1050 - val_loss: -125.4349\n",
            "Epoch 47/50\n",
            "42000/42000 [==============================] - 4s 104us/sample - loss: -127.9275 - val_loss: -129.2572\n",
            "Epoch 48/50\n",
            "42000/42000 [==============================] - 4s 105us/sample - loss: -131.7754 - val_loss: -133.1194\n",
            "Epoch 49/50\n",
            "42000/42000 [==============================] - 5s 107us/sample - loss: -135.6505 - val_loss: -136.9994\n",
            "Epoch 50/50\n",
            "42000/42000 [==============================] - 5s 113us/sample - loss: -139.5476 - val_loss: -140.8834\n"
          ],
          "name": "stdout"
        },
        {
          "output_type": "execute_result",
          "data": {
            "text/plain": [
              "<tensorflow.python.keras.callbacks.History at 0x7f04092dbac8>"
            ]
          },
          "metadata": {
            "tags": []
          },
          "execution_count": 18
        }
      ]
    },
    {
      "cell_type": "code",
      "metadata": {
        "id": "AquS7k2tlV-f",
        "colab_type": "code",
        "colab": {}
      },
      "source": [
        "decoder_img=autoencoder.predict(x_test) #this is our reconstructed image we can use them."
      ],
      "execution_count": 0,
      "outputs": []
    }
  ]
}